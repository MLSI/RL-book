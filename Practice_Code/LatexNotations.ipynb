{
 "cells": [
  {
   "cell_type": "markdown",
   "metadata": {},
   "source": [
    "Let $( \\mathcal{T} )$ be a topological space, a basis is defined as\n",
    " $[\n",
    " \\mathcal{B} = \\{B_{\\alpha} \\in \\mathcal{T}\\, |\\,  U = \\bigcup B_{\\alpha} \\forall U \\in \\mathcal{T} \\}\n",
    "  ]$"
   ]
  },
  {
   "cell_type": "markdown",
   "metadata": {},
   "source": [
    "$$RQSZ \\\\\n",
    "\\mathcal{RQSZ} \\\\\n",
    "\\mathfrak{RQSZ} \\\\\n",
    "\\mathbb{RQSZ}$$"
   ]
  },
  {
   "cell_type": "markdown",
   "metadata": {},
   "source": [
    "$$\n",
    "3x^2 \\in R \\subset Q \\\\\n",
    "\\mathrm{3x^2 \\in R \\subset Q} \\\\\n",
    "\\mathit{3x^2 \\in R \\subset Q} \\\\\n",
    "\\mathbf{3x^2 \\in R \\subset Q} \\\\\n",
    "\\mathsf{3x^2 \\in R \\subset Q} \\\\\n",
    "\\mathtt{3x^2 \\in R \\subset Q} \n",
    "$$"
   ]
  },
  {
   "cell_type": "code",
   "execution_count": null,
   "metadata": {},
   "outputs": [],
   "source": []
  }
 ],
 "metadata": {
  "kernelspec": {
   "display_name": "rl-book",
   "language": "python",
   "name": "rl-book"
  },
  "language_info": {
   "codemirror_mode": {
    "name": "ipython",
    "version": 3
   },
   "file_extension": ".py",
   "mimetype": "text/x-python",
   "name": "python",
   "nbconvert_exporter": "python",
   "pygments_lexer": "ipython3",
   "version": "3.8.2"
  }
 },
 "nbformat": 4,
 "nbformat_minor": 4
}
