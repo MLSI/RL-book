{
 "cells": [
  {
   "cell_type": "code",
   "execution_count": 2,
   "metadata": {},
   "outputs": [
    {
     "name": "stdout",
     "output_type": "stream",
     "text": [
      "Collecting pandoc\n",
      "  Downloading pandoc-1.0.2.tar.gz (488 kB)\n",
      "\u001b[K     |████████████████████████████████| 488 kB 7.5 MB/s eta 0:00:01\n",
      "\u001b[?25hCollecting ply\n",
      "  Downloading ply-3.11-py2.py3-none-any.whl (49 kB)\n",
      "\u001b[K     |████████████████████████████████| 49 kB 14.2 MB/s eta 0:00:01\n",
      "\u001b[?25hUsing legacy 'setup.py install' for pandoc, since package 'wheel' is not installed.\n",
      "Installing collected packages: ply, pandoc\n",
      "    Running setup.py install for pandoc ... \u001b[?25ldone\n",
      "\u001b[?25hSuccessfully installed pandoc-1.0.2 ply-3.11\n",
      "\u001b[33mWARNING: You are using pip version 20.3.3; however, version 21.0.1 is available.\n",
      "You should consider upgrading via the '/Users/mulingsi/Desktop/MSE346/RL-book/.venv/bin/python -m pip install --upgrade pip' command.\u001b[0m\n",
      "Note: you may need to restart the kernel to use updated packages.\n"
     ]
    }
   ],
   "source": [
    "pip install pandoc"
   ]
  },
  {
   "cell_type": "markdown",
   "metadata": {},
   "source": [
    "Let $( \\mathcal{T} )$ be a topological space, a basis is defined as\n",
    " $[\n",
    " \\mathcal{B} = \\{B_{\\alpha} \\in \\mathcal{T}\\, |\\,  U = \\bigcup B_{\\alpha} \\forall U \\in \\mathcal{T} \\}\n",
    "  ]$"
   ]
  },
  {
   "cell_type": "markdown",
   "metadata": {},
   "source": [
    "$$RQSZ \\\\\n",
    "\\mathcal{RQSZ} \\\\\n",
    "\\mathfrak{RQSZ} \\\\\n",
    "\\mathbb{RQSZ}$$"
   ]
  },
  {
   "cell_type": "markdown",
   "metadata": {},
   "source": [
    "$$\n",
    "3x^2 \\in R \\subset Q \\\\\n",
    "\\mathrm{3x^2 \\in R \\subset Q} \\\\\n",
    "\\mathit{3x^2 \\in R \\subset Q} \\\\\n",
    "\\mathbf{3x^2 \\in R \\subset Q} \\\\\n",
    "\\mathsf{3x^2 \\in R \\subset Q} \\\\\n",
    "\\mathtt{3x^2 \\in R \\subset Q} \n",
    "$$"
   ]
  },
  {
   "cell_type": "code",
   "execution_count": null,
   "metadata": {},
   "outputs": [],
   "source": []
  }
 ],
 "metadata": {
  "kernelspec": {
   "display_name": "rl-book",
   "language": "python",
   "name": "rl-book"
  },
  "language_info": {
   "codemirror_mode": {
    "name": "ipython",
    "version": 3
   },
   "file_extension": ".py",
   "mimetype": "text/x-python",
   "name": "python",
   "nbconvert_exporter": "python",
   "pygments_lexer": "ipython3",
   "version": "3.8.2"
  }
 },
 "nbformat": 4,
 "nbformat_minor": 4
}
