{
 "cells": [
  {
   "cell_type": "markdown",
   "metadata": {},
   "source": [
    "# Question 1: Bellman Policy Equations\n",
    "\n",
    "Given deterministic policy $\\pi_D: \\mathcal{S} \\to \\mathcal{A}$\n",
    "\n",
    "- $V^{\\pi_D} \\sim Q^{\\pi_D}$:\n",
    "\n",
    "$V^{\\pi_D}(s) = Q^{\\pi_D} (s,\\pi_D(s))$  for all $s \\in \\mathcal{S}$.\n",
    "\n",
    "- $Q^{\\pi_D} \\sim V^{\\pi_D}$:\n",
    "\n",
    "$Q^{\\pi_D}(s, a) = \\mathcal{R}(s,a) +\\gamma \\cdot \\sum_{s' \\in N} \\mathcal{P} (s,a,s') \\cdot V^{\\pi_D}(s')$ for all $s \\in \\mathcal{S}$ and $a \\in \\mathcal{A}$. \n",
    "\n",
    "\n",
    "\n",
    "- $V^{\\pi_D} \\sim V^{\\pi_D}$:\n",
    "\n",
    "$V^{\\pi_D}(s)= \\mathcal{R}(s,\\pi_D(s)) +\\gamma \\cdot \\sum_{s' \\in \\mathcal{N}}\\mathcal{P}(s,a,s')\\cdot V^{\\pi_D} (s')$ for all $s \\in \\mathcal{S}$.\n",
    "\n",
    "\n",
    "- $Q^{\\pi_D} \\sim Q^{\\pi_D}$:\n",
    "\n",
    "$Q^{\\pi_D}(s, a) = \\mathcal{R}(s,a) +\\gamma \\cdot \\sum_{s' \\in N} \\mathcal{P} (s,a,s')  Q^{\\pi_D} (s', \\pi_D(s'))$ for all $s \\in \\mathcal{S}$ and $a \\in \\mathcal{A}$. \n",
    "\n"
   ]
  },
  {
   "cell_type": "markdown",
   "metadata": {},
   "source": [
    "# Question 2: MDP with inifinte states.\n",
    "\n",
    "\n",
    "Problem Setup:\n",
    "\n",
    "- transition probabilities: $\\mathbb{P} [s+1|s,a] = a, ~ \\mathbb{P} [s|s,a] = 1-a$, for all $s\\in \\mathcal{S}$ for all $a\\in [0,1]$. $\\gamma = 0.5$.\n",
    "- rewards: $s \\to s+1: 1-a; ~ s \\to s: 1+a$\n",
    "\n",
    "Tasks:\n",
    "- Calculate Optimal Value Function $V^\\star(s)$ for all $s\\in\\mathcal{S}$ using MDP Bellman Optimality Eq.\n",
    "- Calculate an optimal deterministiic policy $\\pi^\\star(s)$ for all $s\\in \\mathcal{S}$."
   ]
  },
  {
   "cell_type": "markdown",
   "metadata": {},
   "source": [
    "Reward function:\n",
    "\n",
    "$$\\begin{aligned}\n",
    " \\mathbb{P} [s+1|s,a] = a, ~ \\mathbb{P} [s|s,a] = 1-a,\\\\\n",
    "  \\mathcal{R}_T (s,a, s+1) = 1-a, ~  \\mathcal{R}_T (s,a, s) = 1+a\\\\\n",
    "\\end{aligned}$$"
   ]
  },
  {
   "cell_type": "markdown",
   "metadata": {},
   "source": [
    "$$\\begin{aligned}\n",
    "\\mathcal{R}(s,a) &= \\mathbb{E} [R_{t+1} |S_t =s, A_t=a] \\\\\n",
    " &= \\sum_{s'\\in S} \\mathcal{P}(s,a,s')\\cdot \\mathcal{R}_T(s,a,s')\\\\\n",
    " &=a\\times(1-a) + (1-a)(1+a)\\\\\n",
    " &=1+a-2a^2\n",
    "\\end{aligned}$$"
   ]
  },
  {
   "cell_type": "markdown",
   "metadata": {},
   "source": [
    "$\\begin{aligned}\n",
    "V^\\star(s) &= max_{a\\in \\mathcal{A}} \\{\\mathcal{R}(s,a) +\\gamma \\cdot \\sum_{s' \\in \\mathcal{N}} \\mathcal{P}(s,a,s')\\cdot V^\\star(s')\\}\\\\\n",
    "&= max_{a\\in[0,1]} \\{1+a-2a^2 + \\gamma (a\\times V^\\star(s)+(1-a) \\times V^\\star(s)\\}\\\\\n",
    "&= max_{a\\in[0,1]} \\{1+a-2a^2 + \\gamma  V^\\star(s)\\}\\\\\n",
    "(1-\\gamma)V^\\star(s)  &= max_{a\\in[0,1]} \\{1+a-2a^2\\}\\\\\n",
    "max_{a\\in[0,1]} \\{1+a-2a^2\\} & = 1.125 ~ \\text{when} ~ 1-4a=0 \\\\\n",
    "V^\\star(s)  &= \\frac{max_{a\\in[0,1]} \\{1+a-2a^2\\}}{1-\\gamma)} = \\frac{1.125}{0.5}=2.25\\\\\n",
    "\\end{aligned}$\n",
    "\n",
    "Therefore, the optimal value function is $V^\\star(s)=2.25$, optimal policy is $\\pi^\\star(s) = 0.25$.\n"
   ]
  },
  {
   "cell_type": "markdown",
   "metadata": {},
   "source": [
    "# Question 3: Lilypads"
   ]
  },
  {
   "cell_type": "markdown",
   "metadata": {},
   "source": [
    "## Part 1: Mathematical Expressions"
   ]
  },
  {
   "cell_type": "markdown",
   "metadata": {},
   "source": [
    "- State Space: $\\mathcal{S} = \\{i|0 \\leq i \\leq n\\}$ (i is the numbering of the lilypads). $\\mathcal{T} = \\{i|i=0, i=n\\}$\n",
    "- Action Space: $\\mathcal{A} = \\{A, B\\}$\n",
    "- State transitions function\n",
    "\n",
    "$\\begin{equation}\n",
    "  Pr[i'|(i,A)] ~ \\text{for} ~ 1\\leq i \\leq n-1  =\n",
    "    \\begin{cases}\n",
    "      \\frac{i}{n} & \\text{for} ~ i'=i-1\\\\\n",
    "      \\frac{n-i}{n}& \\text{for} ~ i'=i+1\\\\\n",
    "      0 & \\text{otherwise}\n",
    "    \\end{cases}       \n",
    "\\end{equation}$\n",
    "\n",
    "$\\begin{equation}\n",
    "  Pr[i'|(i,B)] ~ \\text{for} ~ 1\\leq i \\leq n-1  =\n",
    "    \\begin{cases}\n",
    "      \\frac{1}{n} & \\text{for all } ~ 0 \\leq i' \\leq n ~\\text{and}~ i' \\neq i\\\\\n",
    "      0 & \\text{otherwise}\n",
    "    \\end{cases}       \n",
    "\\end{equation}$\n",
    "\n",
    "- Rewards function $R(i,a,i')$\n",
    "\n",
    "$R(i,a,i') ~ \\text{for} ~ 1\\leq i \\leq n-1, a \\in \\{A,B\\} = \n",
    "    \\begin{cases}\n",
    "      1 ~\\text{for}~ i' \\neq n\\\\\n",
    "      0 & \\text{otherwise}\n",
    "    \\end{cases}   \n",
    "$"
   ]
  },
  {
   "cell_type": "markdown",
   "metadata": {},
   "source": [
    "## Part 2: Code MDP (FiniteMarkovDecisionProcess)"
   ]
  },
  {
   "cell_type": "code",
   "execution_count": 7,
   "metadata": {},
   "outputs": [],
   "source": [
    "import sys\n",
    "sys.path\n",
    "sys.path.append('/Users/mulingsi/Desktop/MSE346/RL-book/')\n",
    "sys.path.append('/Users/mulingsi/Desktop/MSE346/MDP-DP-RL-master/src/')\n",
    "from processes.mdp_refined import MDPRefined\n",
    "from typing import Sequence, Mapping, Tuple, NoReturn\n",
    "\n",
    "\n",
    "def get_lily_pads_mdp(n: int) -> MDPRefined:\n",
    "    data = {\n",
    "        i: {\n",
    "            'A': {\n",
    "                i - 1: (i / n, 0.),\n",
    "                i + 1: (1. - i / n, 1. if i == n - 1 else 0.)\n",
    "            },\n",
    "            'B': {\n",
    "                j: (1 / n, 1. if j == n else 0.)\n",
    "                for j in range(n + 1) if j != i\n",
    "            }\n",
    "        } for i in range(1, n)\n",
    "    }\n",
    "    data[0] = {'A': {0: (1., 0.)}, 'B': {0: (1., 0.)}}\n",
    "    data[n] = {'A': {n: (1., 0.)}, 'B': {n: (1., 0.)}}\n",
    "\n",
    "    gamma = 1.0\n",
    "    return MDPRefined(data, gamma)\n",
    "\n",
    "\n",
    "def get_sorted_q_val(\n",
    "    q_val: Mapping[int, Mapping[str, float]]\n",
    ") -> Sequence[Tuple[float, float]]:\n",
    "    d = sorted([(s, (t['A'], t['B'])) for s, t in q_val.items()], key=lambda x: x[0])\n",
    "    return [z for _, z in d[1:-1]]\n",
    "\n",
    "\n",
    "def direct_bellman(n: int) -> Mapping[int, float]:\n",
    "    vf = [0.5] * (n + 1)\n",
    "    vf[0] = 0.\n",
    "    vf[n] = 0.\n",
    "    tol = 1e-8\n",
    "    epsilon = tol * 1e4\n",
    "    while epsilon >= tol:\n",
    "        old_vf = [v for v in vf]\n",
    "        for i in range(1, n):\n",
    "            vf[i] = max(\n",
    "                (1. if i == n - 1 else 0.) + i * vf[i - 1] + (n - i) * vf[i + 1],\n",
    "                1. + sum(vf[j] for j in range(1, n) if j != i)\n",
    "            ) / n\n",
    "        epsilon = max(abs(old_vf[i] - v) for i, v in enumerate(vf))\n",
    "    return {v: f for v, f in enumerate(vf)}"
   ]
  },
  {
   "cell_type": "code",
   "execution_count": 9,
   "metadata": {},
   "outputs": [
    {
     "name": "stdout",
     "output_type": "stream",
     "text": [
      "{1: {'B': 1.0}, 2: {'A': 1.0}, 0: {'A': 1.0}, 3: {'A': 1.0}}\n",
      "{1: 0.5714285714285714, 2: 0.7142857142857142, 0: 0.0, 3: 0.0}\n"
     ]
    },
    {
     "data": {
      "image/png": "[encoded data removed]",
      "text/plain": [
       "<Figure size 432x288 with 1 Axes>"
      ]
     },
     "metadata": {
      "needs_background": "light"
     },
     "output_type": "display_data"
    },
    {
     "name": "stdout",
     "output_type": "stream",
     "text": [
      "{1: {'B': 1.0}, 2: {'A': 1.0}, 3: {'A': 1.0}, 4: {'A': 1.0}, 5: {'A': 1.0}, 6: {'A': 1.0}, 7: {'A': 1.0}, 8: {'A': 1.0}, 9: {'A': 1.0}, 0: {'A': 1.0}, 10: {'A': 1.0}}\n",
      "{1: 0.6757812500000041, 2: 0.7031250000000049, 3: 0.709960937500005, 4: 0.7128906250000053, 5: 0.7148437500000053, 6: 0.7167968750000053, 7: 0.7197265625000053, 8: 0.7265625000000051, 9: 0.7539062500000044, 0: 0.0, 10: 0.0}\n"
     ]
    },
    {
     "data": {
      "image/png": "[encoded data removed]",
      "text/plain": [
       "<Figure size 432x288 with 1 Axes>"
      ]
     },
     "metadata": {
      "needs_background": "light"
     },
     "output_type": "display_data"
    },
    {
     "name": "stdout",
     "output_type": "stream",
     "text": [
      "{1: {'B': 1.0}, 2: {'A': 1.0}, 3: {'A': 1.0}, 4: {'A': 1.0}, 5: {'A': 1.0}, 6: {'A': 1.0}, 7: {'A': 1.0}, 8: {'A': 1.0}, 9: {'A': 1.0}, 10: {'A': 1.0}, 11: {'A': 1.0}, 12: {'A': 1.0}, 13: {'A': 1.0}, 14: {'A': 1.0}, 15: {'A': 1.0}, 16: {'A': 1.0}, 17: {'A': 1.0}, 18: {'A': 1.0}, 19: {'A': 1.0}, 20: {'A': 1.0}, 21: {'A': 1.0}, 22: {'A': 1.0}, 23: {'A': 1.0}, 24: {'A': 1.0}, 0: {'A': 1.0}, 25: {'A': 1.0}}\n",
      "{1: 0.6676946021305232, 2: 0.6803761145515967, 3: 0.6814788547621249, 4: 0.681629228427197, 5: 0.681657871030068, 6: 0.6816650316807855, 7: 0.6816672929389069, 8: 0.6816681723170652, 9: 0.6816685861420811, 10: 0.6816688189186524, 11: 0.6816689741030333, 12: 0.681669096033618, 13: 0.6816692085849274, 14: 0.6816693305155122, 15: 0.6816694856998926, 16: 0.6816697184764635, 17: 0.6816701323014784, 18: 0.6816710116796352, 19: 0.6816732729377522, 20: 0.6816804335884565, 21: 0.6817090761912741, 22: 0.6818594498560655, 23: 0.6829621900645367, 24: 0.6956437024619553, 0: 0.0, 25: 0.0}\n"
     ]
    },
    {
     "data": {
      "image/png": "[encoded data removed]",
      "text/plain": [
       "<Figure size 432x288 with 1 Axes>"
      ]
     },
     "metadata": {
      "needs_background": "light"
     },
     "output_type": "display_data"
    }
   ],
   "source": [
    "def graph_q_func(a: Sequence[Tuple[float, float]]) -> NoReturn:\n",
    "    import matplotlib.pyplot as plt\n",
    "    x_vals = range(1, len(a) + 1)\n",
    "    plt.plot(x_vals, [x for x, _ in a], \"r\", label=\"Q* for Action A\")\n",
    "    plt.plot(x_vals, [y for _, y in a], \"b\", label=\"Q* for Action B\")\n",
    "    plt.xlabel(\"Lilypad Number\")\n",
    "    plt.ylabel(\"Value\")\n",
    "    plt.title(\"Optimal Action Value Function\")\n",
    "    plt.xlim(xmin=x_vals[0], xmax=x_vals[-1])\n",
    "    plt.ylim(ymin=0.5, ymax=0.8)\n",
    "    plt.xticks(x_vals)\n",
    "    plt.grid(True)\n",
    "    plt.legend(loc='lower right')\n",
    "    plt.show()\n",
    "\n",
    "\n",
    "if __name__ == '__main__':\n",
    "    pads: int = 3\n",
    "    mdp: MDPRefined = get_lily_pads_mdp(pads)\n",
    "    pol = mdp.get_optimal_policy(1e-8)\n",
    "    print(pol.policy_data)\n",
    "    print(mdp.get_value_func_dict(pol))\n",
    "    qv = mdp.get_act_value_func_dict(pol)\n",
    "    graph_q_func(get_sorted_q_val(qv))\n",
    "    \n",
    "if __name__ == '__main__':\n",
    "    pads: int = 10\n",
    "    mdp: MDPRefined = get_lily_pads_mdp(pads)\n",
    "    pol = mdp.get_optimal_policy(1e-8)\n",
    "    print(pol.policy_data)\n",
    "    print(mdp.get_value_func_dict(pol))\n",
    "    qv = mdp.get_act_value_func_dict(pol)\n",
    "    graph_q_func(get_sorted_q_val(qv))\n",
    "\n",
    "if __name__ == '__main__':\n",
    "    pads: int = 25\n",
    "    mdp: MDPRefined = get_lily_pads_mdp(pads)\n",
    "    pol = mdp.get_optimal_policy(1e-8)\n",
    "    print(pol.policy_data)\n",
    "    print(mdp.get_value_func_dict(pol))\n",
    "    qv = mdp.get_act_value_func_dict(pol)\n",
    "    graph_q_func(get_sorted_q_val(qv))"
   ]
  },
  {
   "cell_type": "code",
   "execution_count": null,
   "metadata": {},
   "outputs": [],
   "source": []
  },
  {
   "cell_type": "markdown",
   "metadata": {},
   "source": [
    "## Part 3: Plots & Patterns"
   ]
  },
  {
   "cell_type": "code",
   "execution_count": null,
   "metadata": {},
   "outputs": [],
   "source": []
  },
  {
   "cell_type": "markdown",
   "metadata": {},
   "source": [
    "# Question 4"
   ]
  },
  {
   "cell_type": "code",
   "execution_count": null,
   "metadata": {},
   "outputs": [],
   "source": []
  }
 ],
 "metadata": {
  "kernelspec": {
   "display_name": "rl-book",
   "language": "python",
   "name": "rl-book"
  },
  "language_info": {
   "codemirror_mode": {
    "name": "ipython",
    "version": 3
   },
   "file_extension": ".py",
   "mimetype": "text/x-python",
   "name": "python",
   "nbconvert_exporter": "python",
   "pygments_lexer": "ipython3",
   "version": "3.8.2"
  }
 },
 "nbformat": 4,
 "nbformat_minor": 4
}
