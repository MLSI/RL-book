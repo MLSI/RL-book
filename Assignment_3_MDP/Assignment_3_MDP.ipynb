{
 "cells": [
  {
   "cell_type": "markdown",
   "metadata": {},
   "source": [
    "# Question 1: Bellman Policy Equations\n",
    "\n",
    "Given deterministic policy $\\pi_D: \\mathcal{S} \\to \\mathcal{A}$\n",
    "\n",
    "- $V^{\\pi_D} \\sim Q^{\\pi_D}$:\n",
    "\n",
    "$V^{\\pi_D}(s) = Q^{\\pi_D} (s,\\pi_D(s))$  for all $s \\in \\mathcal{S}$.\n",
    "\n",
    "- $Q^{\\pi_D} \\sim V^{\\pi_D}$:\n",
    "\n",
    "$Q^{\\pi_D}(s, a) = \\mathcal{R}(s,a) +\\gamma \\cdot \\sum_{s' \\in N} \\mathcal{P} (s,a,s') \\cdot V^{\\pi_D}(s')$ for all $s \\in \\mathcal{S}$ and $a \\in \\mathcal{A}$. \n",
    "\n",
    "\n",
    "\n",
    "- $V^{\\pi_D} \\sim V^{\\pi_D}$:\n",
    "\n",
    "$V^{\\pi_D}(s)= \\mathcal{R}(s,\\pi_D(s)) +\\gamma \\cdot \\sum_{s' \\in \\mathcal{N}}\\mathcal{P}(s,a,s')\\cdot V^{\\pi_D} (s')$ for all $s \\in \\mathcal{S}$.\n",
    "\n",
    "\n",
    "- $Q^{\\pi_D} \\sim Q^{\\pi_D}$:\n",
    "\n",
    "$Q^{\\pi_D}(s, a) = \\mathcal{R}(s,a) +\\gamma \\cdot \\sum_{s' \\in N} \\mathcal{P} (s,a,s')  Q^{\\pi_D} (s', \\pi_D(s'))$ for all $s \\in \\mathcal{S}$ and $a \\in \\mathcal{A}$. \n",
    "\n"
   ]
  },
  {
   "cell_type": "markdown",
   "metadata": {},
   "source": [
    "# Question 2: MDP with inifinte states.\n",
    "\n",
    "\n",
    "Problem Setup:\n",
    "\n",
    "- transition probabilities: $\\mathbb{P} [s+1|s,a] = a, ~ \\mathbb{P} [s|s,a] = 1-a$, for all $s\\in \\mathcal{S}$ for all $a\\in [0,1]$. $\\gamma = 0.5$.\n",
    "- rewards: $s \\to s+1: 1-a; ~ s \\to s: 1+a$\n",
    "\n",
    "Tasks:\n",
    "- Calculate Optimal Value Function $V^\\star(s)$ for all $s\\in\\mathcal{S}$ using MDP Bellman Optimality Eq.\n",
    "- Calculate an optimal deterministiic policy $\\pi^\\star(s)$ for all $s\\in \\mathcal{S}$."
   ]
  },
  {
   "cell_type": "markdown",
   "metadata": {},
   "source": [
    "Reward function:\n",
    "\n",
    "$$\\begin{aligned}\n",
    " \\mathbb{P} [s+1|s,a] = a, ~ \\mathbb{P} [s|s,a] = 1-a,\\\\\n",
    "  \\mathcal{R}_T (s,a, s+1) = 1-a, ~  \\mathcal{R}_T (s,a, s) = 1+a\\\\\n",
    "\\end{aligned}$$"
   ]
  },
  {
   "cell_type": "markdown",
   "metadata": {},
   "source": [
    "$$\\begin{aligned}\n",
    "\\mathcal{R}(s,a) &= \\mathbb{E} [R_{t+1} |S_t =s, A_t=a] \\\\\n",
    " &= \\sum_{s'\\in S} \\mathcal{P}(s,a,s')\\cdot \\mathcal{R}_T(s,a,s')\\\\\n",
    " &=a\\times(1-a) + (1-a)(1+a)\\\\\n",
    " &=1+a-2a^2\n",
    "\\end{aligned}$$"
   ]
  },
  {
   "cell_type": "markdown",
   "metadata": {},
   "source": [
    "$\\begin{aligned}\n",
    "V^\\star(s) &= max_{a\\in \\mathcal{A}} \\{\\mathcal{R}(s,a) +\\gamma \\cdot \\sum_{s' \\in \\mathcal{N}} \\mathcal{P}(s,a,s')\\cdot V^\\star(s')\\}\\\\\n",
    "&= max_{a\\in[0,1]} \\{1+a-2a^2 + \\gamma (a\\times V^\\star(s)+(1-a) \\times V^\\star(s)\\}\\\\\n",
    "&= max_{a\\in[0,1]} \\{1+a-2a^2 + \\gamma  V^\\star(s)\\}\\\\\n",
    "(1-\\gamma)V^\\star(s)  &= max_{a\\in[0,1]} \\{1+a-2a^2\\}\\\\\n",
    "max_{a\\in[0,1]} \\{1+a-2a^2\\} & = 1.125 ~ \\text{when} ~ 1-4a=0 \\\\\n",
    "V^\\star(s)  &= \\frac{max_{a\\in[0,1]} \\{1+a-2a^2\\}}{1-\\gamma)} = \\frac{1.125}{0.5}=2.25\\\\\n",
    "\\end{aligned}$\n",
    "\n",
    "Therefore, the optimal value function is $V^\\star(s)=2.25$, optimal policy is $\\pi^\\star(s) = 0.25$.\n"
   ]
  },
  {
   "cell_type": "markdown",
   "metadata": {},
   "source": [
    "# Question 3: Lilypads"
   ]
  },
  {
   "cell_type": "markdown",
   "metadata": {},
   "source": [
    "## Part 1: Mathematical Expressions"
   ]
  },
  {
   "cell_type": "markdown",
   "metadata": {},
   "source": [
    "- State Space: $\\mathcal{S} = \\{i|0 \\leq i \\leq n\\}$ (i is the numbering of the lilypads). $\\mathcal{T} = \\{i|i=0, i=n\\}$\n",
    "- Action Space: $\\mathcal{A} = \\{A, B\\}$\n",
    "- State transitions function\n",
    "\n",
    "$\\begin{equation}\n",
    "  Pr[i'|(i,A)] ~ \\text{for} ~ 1\\leq i \\leq n-1  =\n",
    "    \\begin{cases}\n",
    "      \\frac{i}{n} & \\text{for} ~ i'=i-1\\\\\n",
    "      \\frac{n-i}{n}& \\text{for} ~ i'=i+1\\\\\n",
    "      0 & \\text{otherwise}\n",
    "    \\end{cases}       \n",
    "\\end{equation}$\n",
    "\n",
    "$\\begin{equation}\n",
    "  Pr[i'|(i,B)] ~ \\text{for} ~ 1\\leq i \\leq n-1  =\n",
    "    \\begin{cases}\n",
    "      \\frac{1}{n} & \\text{for all } ~ 0 \\leq i' \\leq n ~\\text{and}~ i' \\neq i\\\\\n",
    "      0 & \\text{otherwise}\n",
    "    \\end{cases}       \n",
    "\\end{equation}$\n",
    "\n",
    "- Rewards function $R(i,a,i')$\n",
    "\n",
    "$R(i,a,i') ~ \\text{for} ~ 1\\leq i \\leq n-1, a \\in \\{A,B\\} = \n",
    "    \\begin{cases}\n",
    "      1 ~\\text{for}~ i' \\neq n\\\\\n",
    "      0 & \\text{otherwise}\n",
    "    \\end{cases}   \n",
    "$"
   ]
  },
  {
   "cell_type": "markdown",
   "metadata": {},
   "source": [
    "## Part 2: Code MDP (FiniteMarkovDecisionProcess )"
   ]
  },
  {
   "cell_type": "code",
   "execution_count": 35,
   "metadata": {},
   "outputs": [],
   "source": [
    "import sys\n",
    "sys.path\n",
    "sys.path.append('/Users/mulingsi/Desktop/MSE346/RL-book/')\n",
    "sys.path.append('/Users/mulingsi/Desktop/MSE346/MDP-DP-RL-master/src/')\n",
    "from processes.mdp_refined import MDPRefined\n",
    "from typing import Sequence, Mapping, Tuple, NoReturn\n",
    "\n",
    "import itertools\n",
    "from dataclasses import dataclass\n",
    "from typing import Tuple, Dict\n",
    "from rl.markov_decision_process import FiniteMarkovDecisionProcess\n",
    "from rl.markov_decision_process import FinitePolicy, StateActionMapping\n",
    "from rl.markov_process import FiniteMarkovProcess, FiniteMarkovRewardProcess\n",
    "from rl.distribution import Categorical, Constant\n",
    "from scipy.stats import poisson\n",
    "\n",
    "import numpy as np"
   ]
  },
  {
   "cell_type": "code",
   "execution_count": 12,
   "metadata": {},
   "outputs": [],
   "source": [
    "@dataclass(frozen=True)\n",
    "class LilypadState:\n",
    "    lilypad: int\n",
    "        \n",
    "LilypadSoundMapping = StateActionMapping[LilypadState, str]\n",
    "\n",
    "class FrogEscapeMDP(FiniteMarkovDecisionProcess[LilypadState, str]):\n",
    "    \n",
    "    def __init__(self, num_lilypads:int):\n",
    "        self.num_lilypads = num_lilypads \n",
    "        super().__init__(self.get_action_transition_reward_map())\n",
    "\n",
    "    def get_action_transition_reward_map(self) -> LilypadSoundMapping:\n",
    "        d: Dict[LilypadState, Dict[str, Categorical[Tuple[LilypadState,float]]]] = {}\n",
    "            \n",
    "        d[0] = None\n",
    "        d[self.num_lilypads] = None\n",
    "        \n",
    "        for lilypad in range(1,self.num_lilypads):\n",
    "            state: LilypadState = LilypadState(lilypad)\n",
    "            d1: Dict[str,Categorical[Tuple[LilypadState, float]]] = {}\n",
    "\n",
    "            # sound A\n",
    "            sr_probs_dict_a: Dict[Tuple[LilypadState, float], float] = {}\n",
    "            sr_probs_dict_a[(LilypadState(lilypad - 1), 0)] = lilypad / (self.num_lilypads)\n",
    "            if lilypad + 1 == self.num_lilypads:\n",
    "                sr_probs_dict_a[(LilypadState(lilypad + 1), 1)] = 1 - lilypad/(self.num_lilypads)\n",
    "            else:\n",
    "                sr_probs_dict_a[(LilypadState(lilypad + 1), 0)] = 1 - lilypad /(self.num_lilypads)\n",
    "            d1['A'] = Categorical(sr_probs_dict_a)\n",
    "\n",
    "            # sound B\n",
    "            sr_probs_dict_b: Dict[Tuple[LilypadState, float], float] = {}\n",
    "            for i in range(self.num_lilypads+1):\n",
    "                if i != lilypad:\n",
    "                    if i == self.num_lilypads :\n",
    "                        sr_probs_dict_b[(LilypadState(i), 1)] = 1/(self.num_lilypads)\n",
    "                    else:\n",
    "                        sr_probs_dict_b[(LilypadState(i), 0)] = 1 /(self.num_lilypads)\n",
    "            d1['B'] = Categorical(sr_probs_dict_b)\n",
    "\n",
    "            d[state] = d1\n",
    "        return d\n"
   ]
  },
  {
   "cell_type": "code",
   "execution_count": 14,
   "metadata": {},
   "outputs": [],
   "source": [
    "from rl.dynamic_programming import evaluate_mrp_result"
   ]
  },
  {
   "cell_type": "code",
   "execution_count": 36,
   "metadata": {},
   "outputs": [],
   "source": [
    "def get_policy_val_funct(\n",
    "    frog_MDP: FrogEscapeMDP,\n",
    "    fdp: FinitePolicy,\n",
    "    gamma: float = 1\n",
    ") -> np.ndarray:\n",
    "    implied_mrp: FiniteMarkovRewardProcess[LilypadState] =\\\n",
    "            frog_mdp.apply_finite_policy(fdp)\n",
    "    return implied_mrp.get_value_function_vec(gamma=gamma)"
   ]
  },
  {
   "cell_type": "code",
   "execution_count": 118,
   "metadata": {},
   "outputs": [],
   "source": [
    "def get_all_val(number_of_lilypads: int, user_gamma=int):\n",
    "    frog_mdp: FrogEscapeMDP = FrogEscapeMDP(number_of_lilypads)\n",
    "    # CREATING ALL POSSIBLE DETERMINISTIC POLICIES\n",
    "    policies = list(itertools.product(['A', 'B'], repeat=number_of_lilypads-1)) \n",
    "    val_function_map = {}\n",
    "    for policy in policies:\n",
    "        fdp: FinitePolicy[LilypadState, int] = FinitePolicy(\n",
    "            {LilypadState(padnum):\n",
    "            Constant(policy[padnum-1 ]) for padnum in range(1,number_of_lilypads)}\n",
    "        )\n",
    "        implied_mrp_tmp: FiniteMarkovRewardProcess[LilypadState] =\\\n",
    "            frog_mdp.apply_finite_policy(fdp)\n",
    "        val_function_map[policy] = implied_mrp_tmp.get_value_function_vec(gamma=user_gamma)\n",
    "    return val_function_map"
   ]
  },
  {
   "cell_type": "code",
   "execution_count": 119,
   "metadata": {},
   "outputs": [],
   "source": [
    "def find_optimal(val_function_map):\n",
    "    V_star = val_function_map[list(val_function_map.keys())[0]]\n",
    "    for i, policy in enumerate(val_function_map):\n",
    "        if np.all(val_function_map[policy] >= V_star) :\n",
    "            V_star = val_function_map[policy] \n",
    "    pol_star = []        \n",
    "    for policy in val_function_map.keys():\n",
    "        if np.all(val_function_map[policy]  == V_star):\n",
    "            pol_star = pol_star + [policy]\n",
    "    return V_star, pol_star"
   ]
  },
  {
   "cell_type": "markdown",
   "metadata": {},
   "source": [
    "## Part 3: n = 3, 6, 9"
   ]
  },
  {
   "cell_type": "code",
   "execution_count": 120,
   "metadata": {},
   "outputs": [
    {
     "name": "stdout",
     "output_type": "stream",
     "text": [
      "----------------------------------------\n",
      "when there are 3 lilypads......\n",
      "the optimal values (escape prob) are: \n",
      "[0.57142857 0.71428571]\n",
      "the optimal policies are: \n",
      "[('B', 'A')]\n",
      "----------------------------------------\n",
      "----------------------------------------\n",
      "when there are 6 lilypads......\n",
      "the optimal values (escape prob) are: \n",
      "[0.65957447 0.70212766 0.72340426 0.74468085 0.78723404]\n",
      "the optimal policies are: \n",
      "[('B', 'A', 'A', 'A', 'A')]\n",
      "----------------------------------------\n",
      "----------------------------------------\n",
      "when there are 9 lilypads......\n",
      "the optimal values (escape prob) are: \n",
      "[0.67567568 0.70523649 0.71368243 0.71790541 0.72128378 0.72550676\n",
      " 0.7339527  0.76351351]\n",
      "the optimal policies are: \n",
      "[('B', 'A', 'A', 'A', 'A', 'A', 'A', 'A')]\n",
      "----------------------------------------\n"
     ]
    }
   ],
   "source": [
    "optimal_v = {}\n",
    "optimal_p = {}\n",
    "for num_pads in [3, 6, 9]:\n",
    "    print('----------------------------------------')\n",
    "    print('when there are '+ str(num_pads) +' lilypads......')\n",
    "    optimal_v[num_pads],optimal_p[num_pads] = find_optimal(get_all_val(number_of_lilypads=num_pads, user_gamma=1))\n",
    "    print('the optimal values (escape prob) are: ')\n",
    "    print(optimal_v[num_pads])\n",
    "    print('the optimal policies are: ')\n",
    "    print(optimal_p[num_pads])\n",
    "    print('----------------------------------------')"
   ]
  },
  {
   "cell_type": "markdown",
   "metadata": {},
   "source": [
    "The pattern we observe for the Optimal Policy as we vary n is that for i = 1, the Optimal Action is Croak B and for $2\\leq i \\leq n−1$, the optimal action is Croak A."
   ]
  },
  {
   "cell_type": "code",
   "execution_count": 121,
   "metadata": {},
   "outputs": [],
   "source": [
    "import matplotlib.pyplot as plt"
   ]
  },
  {
   "cell_type": "code",
   "execution_count": 125,
   "metadata": {},
   "outputs": [],
   "source": [
    "c_map = {'A': 'g','B':'b'}"
   ]
  },
  {
   "cell_type": "code",
   "execution_count": 139,
   "metadata": {},
   "outputs": [
    {
     "data": {
      "image/png": "[encoded data removed]",
      "text/plain": [
       "<Figure size 432x288 with 1 Axes>"
      ]
     },
     "metadata": {
      "needs_background": "light"
     },
     "output_type": "display_data"
    },
    {
     "data": {
      "image/png": "[encoded data removed]",
      "text/plain": [
       "<Figure size 432x288 with 1 Axes>"
      ]
     },
     "metadata": {
      "needs_background": "light"
     },
     "output_type": "display_data"
    },
    {
     "data": {
      "image/png": "[encoded data removed]",
      "text/plain": [
       "<Figure size 432x288 with 1 Axes>"
      ]
     },
     "metadata": {
      "needs_background": "light"
     },
     "output_type": "display_data"
    }
   ],
   "source": [
    "for n in optimal_v.keys():\n",
    "    plt.scatter(range(1, n), optimal_v[n], c=  [c_map[i] for i in optimal_p[n][0]])\n",
    "    plt.title('n = ' + str(n) + ' (green dot is action A; blue dot is action B)')\n",
    "    plt.show()"
   ]
  },
  {
   "cell_type": "markdown",
   "metadata": {},
   "source": [
    "# Question 4"
   ]
  },
  {
   "cell_type": "markdown",
   "metadata": {},
   "source": [
    "Continuous-states, continuous-actions, discrete-time, non-terminating MDP.\n",
    "\n",
    "**Objective**: Minimize the inifnite-horizon expected discounted sum of costs (solve for special case $\\gamma = 0$) and derive analytic expression for optimal action & corresponding optimal cost."
   ]
  },
  {
   "cell_type": "markdown",
   "metadata": {},
   "source": [
    "\n",
    "$\\begin{aligned}\n",
    "V^\\star(s) &= max_{a \\in \\mathbb{R}} \\{\\mathbb{E}_{s'\\sim N(s,\\sigma^2)} [-e^{as'}] \\} \\\\\n",
    " &= max_{a \\in \\mathbb{R}} \\{ \\int_{-\\infty}^\\infty \\frac{1}{\\sqrt{2\\pi}\\sigma}\\cdot e^{-\\frac{(x-s)^2}{s\\sigma^2}\n",
    "} \\cdot e^{ax} \\cdot dx\\} \\\\\n",
    " &= max_{a \\in \\mathbb{R}} \\{ \\int_{-\\infty}^\\infty \\frac{1}{\\sqrt{2\\pi}\\sigma}\\cdot e^{-\\frac{(x-(s +a\\sigma^2))^2}{s\\sigma^2}\n",
    "} \\cdot e^{sa+\\frac{\\sigma^2a^2}{2}} \\cdot dx\\} \\\\\n",
    " &= max_{a \\in \\mathbb{R}} \\{-e^{sa+\\frac{\\sigma^2 a^2}{2}} \\cdot\n",
    " \\int_{-\\infty}^\\infty \\frac{1}{\\sqrt{2\\pi}\\sigma}\\cdot e^{-\\frac{(x-(s +a\\sigma^2))^2}{s\\sigma^2}\n",
    "}\\cdot dx\\} \\\\\n",
    " &= max_{a \\in \\mathbb{R}} \\{-e^{sa+\\frac{\\sigma^2 a^2}{2}} \\cdot\n",
    " \\mathbb{E}_{x ~ \\sim N (s+a\\sigma^2, \\sigma^2)}[1]\\} \\\\\n",
    " &= max_{a \\in \\mathbb{R}} \\{-e^{sa+\\frac{\\sigma^2 a^2}{2}}\\}\n",
    "\\end{aligned}$\n",
    "\n",
    "The optimal policy $a^\\star = argmax_a V^\\star(s)$ could be derived via: \n",
    "\n",
    "$\\begin{aligned}\n",
    "\\frac{\\partial\\{-e^{sa+\\frac{\\sigma^2 a^2}{2}}\\}}{\\partial a} = 0 ~ &\\to ~ s + a^\\star \\sigma^2=0 \\\\\n",
    "&\\to a^\\star = \\frac{-s}{\\sigma^2} ~ \\text{(optimal policy)}\n",
    "\\end{aligned}$\n",
    "\n",
    "Since the second order derivative  on $-e^{sa+\\frac{\\sigma^2 a^2}{2}}$: $\\frac{\\partial^2\\{-e^{sa+\\frac{\\sigma^2 a^2}{2}}\\}}{\\partial^2 a} < 0$ for  $a =  a^\\star = \\frac{-s}{\\sigma^2}$, $a^\\star$ indeed maximizes  $-e^{sa+\\frac{\\sigma^2 a^2}{2}}$ and $V^\\star (s)= -e^{sa^\\star+\\frac{\\sigma^2 a^\\star2}{2}} =-e^{-\\frac{s^2}{2\\sigma^2}}$. Therefore the optimal cost is $e^{-\\frac{s^2}{2\\sigma^2}}$"
   ]
  },
  {
   "cell_type": "code",
   "execution_count": null,
   "metadata": {},
   "outputs": [],
   "source": []
  }
 ],
 "metadata": {
  "kernelspec": {
   "display_name": "rl-book",
   "language": "python",
   "name": "rl-book"
  },
  "language_info": {
   "codemirror_mode": {
    "name": "ipython",
    "version": 3
   },
   "file_extension": ".py",
   "mimetype": "text/x-python",
   "name": "python",
   "nbconvert_exporter": "python",
   "pygments_lexer": "ipython3",
   "version": "3.8.2"
  }
 },
 "nbformat": 4,
 "nbformat_minor": 4
}
