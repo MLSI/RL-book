{
 "cells": [
  {
   "cell_type": "markdown",
   "metadata": {},
   "source": [
    "# Question 1: Manual Value Iteration"
   ]
  },
  {
   "cell_type": "markdown",
   "metadata": {},
   "source": [
    "- Initialize Value Function: $v_0(s_1) = 10, v_0(s_2)=1, v_0(s_3)$.\n",
    "- Iteration 1: \n",
    "\n",
    "$$\\begin{aligned}\n",
    "q_1(s_1, a_1) &= 8 +0.2*10+0.6*1+0=10.6\\\\\n",
    "q_1(s_1, a_2) &= 10 +0.1*10+0.2*1+0=11.2\\\\\n",
    "v_1(s_1) &= max(10.6, 11.2) = 11.2\\\\\n",
    "\\pi_1(s_1) &= a_2\n",
    "\\end{aligned}$$\n",
    "\n",
    "$$\\begin{aligned}\n",
    "q_1(s_2, a_1) &= 1 +0.3*10+0.3*1+0=4.3\\\\\n",
    "q_1(s_2, a_2) &= -1 +0.5*10+0.3*1+0=4.3\\\\\n",
    "v_1(s_2) &= max(4.3, 4.3) = 4.3\\\\\n",
    "\\pi_1(s_2) &= a_1\n",
    "\\end{aligned}$$\n",
    "\n",
    "- Iteration 2:\n",
    "\n",
    "$$\\begin{aligned}\n",
    "q_2(s_1, a_1) &= 8 +0.2*11.2+0.6*4.3+0=12.82\\\\\n",
    "q_2(s_1, a_2) &= 10 +0.1*11.2+0.2*4.3+0=11.98\\\\\n",
    "v_2(s_1) &= max(12.82, 11.98) = 12.82\\\\\n",
    "\\pi_2(s_1) &= a_1\n",
    "\\end{aligned}$$\n",
    "\n",
    "$$\\begin{aligned}\n",
    "q_2(s_2, a_1) &= 1 +0.3*11.2+0.3*4.3+0=5.65\\\\\n",
    "q_2(s_2, a_2) &= -1 +0.5*11.2+0.3*4.3+0=5.89\\\\\n",
    "v_2(s_2) &= max(5.65,5.89) =5.89\\\\\n",
    "\\pi_2(s_2) &= a_2\n",
    "\\end{aligned}$$\n",
    "\n",
    "- Why only needs k=2:\n",
    "$$\\begin{aligned}\n",
    "q_k(s_1, a_1) - q_k(s_1, a_2) &= 8-10 + (0.2-0.1)v_{k-1}(s_1)+ (0.6-0.2)v_{k-1}(s_2)\\\\\n",
    "&= -2 + 0.1v_{k-1}(s_1)+ 0.4 v_{k-1}(s_2) ~ \\text{for all } k\\geq 1\\\\\n",
    "q_k(s_2, a_1) - q_k(s_2, a_2) &= 1-(-1) + (0.3-0.5)v_{k-1}(s_1)+ (0.3-0.3)v_{k-1}(s_2)\\\\\n",
    "&= 2 -0.2v_{k-1}(s_1) ~ \\text{for all } k\\geq 1\n",
    "\\end{aligned}$$\n",
    "\n",
    "Since $v_k(s_1) \\geq 12.82$ and $v_k(s_2) \\geq 5.89$ for all $k \\geq 3$, we have\n",
    "$$\\begin{aligned}\n",
    "q_k(s_1, a_1) - q_k(s_1, a_2) \\geq -2 + 0.1*12.82+ 0.4 *5.89 = 1.638 >0 ~ \\text{for all } k\\geq 3\\\\\n",
    "q_k(s_2, a_1) - q_k(s_2, a_2) \\leq 2 -0.2*12.82 = -0.56 <0  ~ \\text{for all } k\\geq 3\n",
    "\\end{aligned}$$\n",
    "\n",
    "Hence $q_k(s_1, a_1) >q_k(s_1, a_2)$ and  $q_k(s_2, a_2) >q_k(s_2, a_1)$ for all $k\\geq 3$. Therefore we have $\\pi_k(s_1) = a_1$ and $\\pi_k(s_2) = a_2$ for all $k\\geq3$."
   ]
  },
  {
   "cell_type": "markdown",
   "metadata": {},
   "source": [
    "# Question 2: Frog Croaking revisited\n",
    "\n",
    "(refer back to Q3 on Assignment 3)\n",
    "\n",
    "Task: \n",
    "- Compute Optimal Value Function and Optimal Policy Using Policy Iteration Algorithm & Value Iteration Algorithm;  - Analyze computational efficiency in terms of speed of convergence to the optimal value function. \n",
    "- How do those 2 iteration methods compare with brute force method of evaluating MDP for $2^{n-1}$ determimistic policy in previous assignment?\n",
    "- Plot graphs of convergence for different values of n."
   ]
  },
  {
   "cell_type": "code",
   "execution_count": null,
   "metadata": {},
   "outputs": [],
   "source": []
  },
  {
   "cell_type": "markdown",
   "metadata": {},
   "source": [
    "# Question 3: Job-Hopping and Wages-Utility-Maximization"
   ]
  },
  {
   "cell_type": "code",
   "execution_count": null,
   "metadata": {},
   "outputs": [],
   "source": []
  },
  {
   "cell_type": "code",
   "execution_count": null,
   "metadata": {},
   "outputs": [],
   "source": []
  },
  {
   "cell_type": "markdown",
   "metadata": {},
   "source": [
    "# Question 4: 2-stores inventory control"
   ]
  },
  {
   "cell_type": "code",
   "execution_count": null,
   "metadata": {},
   "outputs": [],
   "source": []
  }
 ],
 "metadata": {
  "kernelspec": {
   "display_name": "rl-book",
   "language": "python",
   "name": "rl-book"
  },
  "language_info": {
   "codemirror_mode": {
    "name": "ipython",
    "version": 3
   },
   "file_extension": ".py",
   "mimetype": "text/x-python",
   "name": "python",
   "nbconvert_exporter": "python",
   "pygments_lexer": "ipython3",
   "version": "3.8.2"
  }
 },
 "nbformat": 4,
 "nbformat_minor": 4
}
